{
 "cells": [
  {
   "cell_type": "markdown",
   "metadata": {},
   "source": [
    "<p>Document rédigé par BOUNGOTO BIBAYI Yoanne</br></p>"
   ]
  },
  {
   "cell_type": "raw",
   "metadata": {},
   "source": []
  },
  {
   "cell_type": "markdown",
   "metadata": {},
   "source": [
    "# <u>Data Preprocessing:</u>"
   ]
  },
  {
   "cell_type": "markdown",
   "metadata": {},
   "source": [
    "\n",
    "<p>C'est l'une des étapes les plus importantes pour dévélopper des modules avec le plus de performances.</p></br>\n",
    "\n",
    "<p><strong><font color=\"blue\">Les algorithmes</font></strong> de machine learning apprennent à partir des données qui leur sont fournies, si ces données sont de mauvaises qualités, quelles sont erronées, incomplètes, redondantes alors l'algoritme qui en resulte sera assez mauvais, puisqu'il est censé refléter ce qu'il y'a dans les données.\n",
    "c'est pour cette raison qu'il est impératif de <strong>préparer</strong> les données avant leur passage dans la machine, il faut les <strong>nettoyer</strong>, les <strong>filtrer</strong>, les <strong>normaliser</strong> et c'est cette étape que l'on appelle le <strong>Preprocessing</strong></br></p>\n",
    "\n",
    "Parmi les opérations de Preprocessing les plus importantes il y'a:</br>\n",
    " <ul>\n",
    "    <li>Encodage</li>\n",
    "    <li>Normalisation</li>\n",
    "    <li>Imputation</li>\n",
    "    <li>Selection</li>\n",
    "    <li>Extraction</li>\n",
    "</ul>\n",
    "\n",
    "<p>Dans ce tutoriel nous ne verrons que la technique d'encodage et de Normalisation. on n'abordera le reste dans un autre tutoriel.</p>\n"
   ]
  },
  {
   "cell_type": "markdown",
   "metadata": {},
   "source": [
    "## <u>Encodage</u>"
   ]
  },
  {
   "cell_type": "markdown",
   "metadata": {},
   "source": [
    "\n",
    "<p>Pour faire des calcules une machine à besoin des valeurs numériques. Si notre dataset contient des valeurs qualitatives sous forme de mots, il est indispensable de convertir ces mots en valeurs numériques (Quantitatives).\n",
    "Il existe 2 types d'encodages:\n",
    "<ul>\n",
    "    <li><strong>Encodage Ordinal</strong></li> --> <font color=\"gren\">Label Encoder</font>: Associe chaque catégorie à une valeur décimale unique (pour un tableau contenant une seul variable y)"
   ]
  },
  {
   "cell_type": "markdown",
   "metadata": {},
   "source": [
    " $$\\left(\\begin{array}{}chat\\\\chien\\\\Oiseau\\end{array}\\right) --> \\left(\\begin{array}{}1\\\\2\\\\0\\end{array}\\right)$$\n",
    "    "
   ]
  },
  {
   "cell_type": "markdown",
   "metadata": {},
   "source": [
    "--> <font color=\"blue\">Ordinal Encoder</font>: Pour un tableau qui contient plusieurs variables x"
   ]
  },
  {
   "cell_type": "markdown",
   "metadata": {},
   "source": [
    " $$\\left(\\begin{array}{}chat & Poils\\\\chien & poils \\\\Oiseau & Plumes\\end{array}\\right)-->\\left(\\begin{array}{}1 & 1\\\\2 & 1\\\\0 & 0\\end{array}\\right)$$\n",
    "    "
   ]
  },
  {
   "cell_type": "markdown",
   "metadata": {},
   "source": [
    "  <li><strong>Encodage One-Hot</strong></li>\n",
    "   LabelBinarizer(), MultiLabelBinarizer, OneHotEncoder().</br>\n",
    "   \n",
    "   Ensemble nous allons juste voir LabelBinarizer() et OneHotEncoder()"
   ]
  },
  {
   "cell_type": "markdown",
   "metadata": {},
   "source": [
    " $$\\left(\\begin{array}{}Chat\\\\Chat\\\\Chien\\\\Oiseau\\end{array}\\right) --> \\left(\\begin{array}{}1 & 0 & 0 \\\\ 1 & 0 & 0 \\\\ 0 & 1 & 0 \\\\0 & 0 & 1\\end{array}\\right)$$"
   ]
  },
  {
   "cell_type": "markdown",
   "metadata": {},
   "source": [
    "La lecture est differente contrairement aux autres matrices dont l'identification se faisaient en ligne. Ici la classe est representée de façon binaire dans une colonne qui lui est propre. ex: chat pour colonne 1, chien colonne 2 et Oiseau colonne 3.\n",
    "La colonne sera la même pour les classes identiques(exemple:chat).\n",
    "\n",
    "Autant de colonne seront créees pour le même nombre de variable ainsi les algorithmes ne pourront plus comparer chat, chien et oiseau sur un même axe car ces catégories sont desormais séparer en plusieurs dimensions\n",
    "</ul>\n",
    "</p>"
   ]
  },
  {
   "cell_type": "markdown",
   "metadata": {},
   "source": [
    "### <u>Discussion:</u>"
   ]
  },
  {
   "cell_type": "markdown",
   "metadata": {},
   "source": [
    "\n",
    "<p>En ce qui concerne <Strong>l'encodage Ordinal</strong> d'un point de vu arithmétique ça reviendrai à dire 0<1<2 --> Oiseau< Chat <Chien ça n'a pas de sens. car ces catégories n'ont rien d'ordinaire. On risque de pénaliser la plus part des modèles machine learning à l'exception des arbres de décisions qui eux ne sont pas sensibles au rélation d'ordre. Pour éviter cela <STRONG>l'encodage One Hot</STRONG> est la solution (Car ils seront séparés sur plusieurs axes et donc ne pourront avoir aucune comparaison arithmétique possible).</p>"
   ]
  },
  {
   "cell_type": "markdown",
   "metadata": {},
   "source": [
    "## <u>Encodage</strong></u>"
   ]
  },
  {
   "cell_type": "markdown",
   "metadata": {},
   "source": [
    "### <u>LabelEncoder</u>"
   ]
  },
  {
   "cell_type": "code",
   "execution_count": 1,
   "metadata": {},
   "outputs": [],
   "source": [
    "import numpy as np\n",
    "from sklearn.preprocessing import LabelEncoder"
   ]
  },
  {
   "cell_type": "code",
   "execution_count": 2,
   "metadata": {},
   "outputs": [],
   "source": [
    "y=np.array(['chat','chien','chat','Oiseau'])"
   ]
  },
  {
   "cell_type": "code",
   "execution_count": 3,
   "metadata": {},
   "outputs": [
    {
     "data": {
      "text/plain": [
       "array([1, 2, 1, 0], dtype=int64)"
      ]
     },
     "execution_count": 3,
     "metadata": {},
     "output_type": "execute_result"
    }
   ],
   "source": [
    "encoder=LabelEncoder()\n",
    "encoder.fit_transform(y)"
   ]
  },
  {
   "cell_type": "code",
   "execution_count": 4,
   "metadata": {},
   "outputs": [
    {
     "data": {
      "text/plain": [
       "array(['Oiseau', 'Oiseau', 'chien', 'chien'], dtype='<U6')"
      ]
     },
     "execution_count": 4,
     "metadata": {},
     "output_type": "execute_result"
    }
   ],
   "source": [
    "encoder.inverse_transform(np.array([0, 0, 2, 2]))"
   ]
  },
  {
   "cell_type": "markdown",
   "metadata": {},
   "source": [
    "#### <u>Interprétation:</u>"
   ]
  },
  {
   "cell_type": "markdown",
   "metadata": {},
   "source": [
    "\n",
    "<p>On crée notre tableau y avec les données chat, chien et Oiseau\n",
    "On crée un objet de la classe LabelEncoder() --> encoder=LabelEncoder\n",
    "Puis on entraîne avec la méthodes transform_fit toutes les données contenues dans notre variable y qu'on lui a fournit.</p>"
   ]
  },
  {
   "cell_type": "markdown",
   "metadata": {},
   "source": [
    "\n",
    "<p>La méthode inverse_transform permet de décoder les données.\n",
    "Par exemple, Si on entraîne un modèle de machine learning à identifier des animeaux, ce modèle nous donnera les valeurs numérique 0, 1 ou 2 et que nous voulons savoir à quoi correspond chaque numéro, on pourra utiliser cette méthode.</p>"
   ]
  },
  {
   "cell_type": "markdown",
   "metadata": {},
   "source": [
    "### <u>OrdinalEncoder</u>"
   ]
  },
  {
   "cell_type": "code",
   "execution_count": 5,
   "metadata": {},
   "outputs": [],
   "source": [
    "from sklearn.preprocessing import OrdinalEncoder"
   ]
  },
  {
   "cell_type": "code",
   "execution_count": 6,
   "metadata": {},
   "outputs": [],
   "source": [
    "x=np.array([['chat', 'poilu'],\n",
    "            ['chien', 'poils'], \n",
    "            ['poule', 'Plumes'],\n",
    "            ['ourse', 'poilu']])"
   ]
  },
  {
   "cell_type": "code",
   "execution_count": 7,
   "metadata": {},
   "outputs": [
    {
     "data": {
      "text/plain": [
       "array([[0., 2.],\n",
       "       [1., 1.],\n",
       "       [3., 0.],\n",
       "       [2., 2.]])"
      ]
     },
     "execution_count": 7,
     "metadata": {},
     "output_type": "execute_result"
    }
   ],
   "source": [
    "encoder=OrdinalEncoder()\n",
    "encoder.fit_transform(x)"
   ]
  },
  {
   "cell_type": "markdown",
   "metadata": {},
   "source": [
    "## Encodage One-Hot"
   ]
  },
  {
   "cell_type": "markdown",
   "metadata": {},
   "source": [
    "### <u>LabelBinarizer</u>"
   ]
  },
  {
   "cell_type": "code",
   "execution_count": 8,
   "metadata": {},
   "outputs": [],
   "source": [
    "from sklearn.preprocessing import LabelBinarizer"
   ]
  },
  {
   "cell_type": "code",
   "execution_count": 9,
   "metadata": {},
   "outputs": [],
   "source": [
    "y=np.array(['Paris', 'Marseille', 'Lyon', 'Bordeaux', 'Toulouse', 'Lille'])"
   ]
  },
  {
   "cell_type": "code",
   "execution_count": 10,
   "metadata": {},
   "outputs": [
    {
     "data": {
      "text/plain": [
       "array([[0, 0, 0, 0, 1, 0],\n",
       "       [0, 0, 0, 1, 0, 0],\n",
       "       [0, 0, 1, 0, 0, 0],\n",
       "       [1, 0, 0, 0, 0, 0],\n",
       "       [0, 0, 0, 0, 0, 1],\n",
       "       [0, 1, 0, 0, 0, 0]])"
      ]
     },
     "execution_count": 10,
     "metadata": {},
     "output_type": "execute_result"
    }
   ],
   "source": [
    "encoder=LabelBinarizer()\n",
    "encoder.fit_transform(y)"
   ]
  },
  {
   "cell_type": "markdown",
   "metadata": {},
   "source": [
    "#### <u>Interpretation:</u>"
   ]
  },
  {
   "cell_type": "markdown",
   "metadata": {},
   "source": [
    " \n",
    " <p>Vous saurez maintenant l'interpréter car nous l'avons déjà fait précédemment. Mais concentrons nous sur le résultat de notre matrice. Dans le cas ou on aura un grand nombre de catégories, dans un fichier immobilier par exemple avec un très grand nombre de villes, alors le resultat va nous donner un tableau extrêmement large. On pourrait aussi penser que ça occuperait une très grande mémoire de notre ordinateur, mais il n'en est rien, car en observant bien la matrice vous verrez quelle est essentiellement composée de zero, nous somme devant une matrice creuse, l'ordinateur ne stockera que la valeur 1.</br></p>\n",
    "\n",
    "   <p>Ainsi ne pas voir s'afficher un grand tableau, on a l'option de choisir si notre matrice doit être compressée ou non. Pour cela on mettra dans la classe LabelBinarizer(), <font color=\"green\"><strong>sparse_output=True</strong></font> et dans le résultat vous n'aurez plus la matrice mais le resultat :Compressed Sparse Row format.</p>"
   ]
  },
  {
   "cell_type": "code",
   "execution_count": 11,
   "metadata": {},
   "outputs": [
    {
     "data": {
      "text/plain": [
       "<6x6 sparse matrix of type '<class 'numpy.int32'>'\n",
       "\twith 6 stored elements in Compressed Sparse Row format>"
      ]
     },
     "execution_count": 11,
     "metadata": {},
     "output_type": "execute_result"
    }
   ],
   "source": [
    "encoder=LabelBinarizer(sparse_output=True)\n",
    "encoder.fit_transform(y)"
   ]
  },
  {
   "cell_type": "markdown",
   "metadata": {},
   "source": [
    "### <u>OneHotEncoder</u>"
   ]
  },
  {
   "cell_type": "code",
   "execution_count": 12,
   "metadata": {},
   "outputs": [],
   "source": [
    "from sklearn.preprocessing import OneHotEncoder"
   ]
  },
  {
   "cell_type": "code",
   "execution_count": 13,
   "metadata": {},
   "outputs": [],
   "source": [
    "y=np.array([['Paris', 'Marseille'], \n",
    "            ['Lyon', 'Bordeaux'],\n",
    "            ['Toulouse', 'Lille']])"
   ]
  },
  {
   "cell_type": "code",
   "execution_count": 14,
   "metadata": {},
   "outputs": [],
   "source": [
    "encoder=OneHotEncoder()"
   ]
  },
  {
   "cell_type": "code",
   "execution_count": 15,
   "metadata": {},
   "outputs": [
    {
     "data": {
      "text/plain": [
       "<3x6 sparse matrix of type '<class 'numpy.float64'>'\n",
       "\twith 6 stored elements in Compressed Sparse Row format>"
      ]
     },
     "execution_count": 15,
     "metadata": {},
     "output_type": "execute_result"
    }
   ],
   "source": [
    "encoder.fit_transform(y)"
   ]
  },
  {
   "cell_type": "markdown",
   "metadata": {},
   "source": [
    "#### <u>Observation:</u>"
   ]
  },
  {
   "cell_type": "markdown",
   "metadata": {},
   "source": [
    "\n",
    "<P>Vous avez remarqué que pour le résultat du transformer OneHotEncoder la compression est incluse par défaut.</P>"
   ]
  },
  {
   "cell_type": "markdown",
   "metadata": {},
   "source": [
    "## Normalisation"
   ]
  },
  {
   "cell_type": "markdown",
   "metadata": {},
   "source": [
    "\n",
    "<P>En data science il est indispensable de normaliser nos données <mark>quantitatives</mark>, c'est à dire les mettre toutes sur une même echelle, cela facilite l'apprentissage de nos modèles machine learning qui sont basés sur les calcules de variances, la descente de gradient, les calcules de distances. il existe beaucoup de techniques de normalisation, nous allons voir les 2 plus connues à savoir:\n",
    "La normalisation MinMax\n",
    "La standardisation.</P>\n"
   ]
  },
  {
   "cell_type": "markdown",
   "metadata": {},
   "source": [
    "### <u>NormalisationMinMax</u>"
   ]
  },
  {
   "cell_type": "markdown",
   "metadata": {},
   "source": [
    "\n",
    "Transforme chaque variable X de telle sorte à être comprise entre 0 et 1.\n"
   ]
  },
  {
   "cell_type": "markdown",
   "metadata": {},
   "source": [
    "$$X_{scaled}=\\frac{{X}-{X}_{min}}{X_{max}-X_{min}}.$$"
   ]
  },
  {
   "cell_type": "code",
   "execution_count": 16,
   "metadata": {},
   "outputs": [],
   "source": [
    "from sklearn.preprocessing import MinMaxScaler"
   ]
  },
  {
   "cell_type": "code",
   "execution_count": 17,
   "metadata": {},
   "outputs": [],
   "source": [
    "X=np.array([[70],\n",
    "           [80],\n",
    "           [120]])"
   ]
  },
  {
   "cell_type": "code",
   "execution_count": 18,
   "metadata": {},
   "outputs": [
    {
     "data": {
      "text/plain": [
       "array([[0. ],\n",
       "       [0.2],\n",
       "       [1. ]])"
      ]
     },
     "execution_count": 18,
     "metadata": {},
     "output_type": "execute_result"
    }
   ],
   "source": [
    "scaler=MinMaxScaler()\n",
    "scaler.fit_transform(X)"
   ]
  },
  {
   "cell_type": "markdown",
   "metadata": {},
   "source": [
    "#### <u>Discussion:</u>"
   ]
  },
  {
   "cell_type": "markdown",
   "metadata": {},
   "source": [
    "\n",
    "<P>La normalisationMinMax transforme chaque variable X de telle sorte à être comprise entre 0 et 1.\n",
    "Vous pourriez vos dire que si on deforme nos données, ça ne veut plus rien dire, notre modèle ne va rien comprendre, ou perdra de l'information sur nos véritables données. En réalité non, on ne perd aucune information car les normalisations ont conservé les rapports de distances qu'ils y 'avaient dans nos données, c'est à dire l'écart qu'il y'a entre 0 et 0.2 est égale à l'écart entre 70 et 80et ainsi de suite.</P>"
   ]
  },
  {
   "cell_type": "markdown",
   "metadata": {},
   "source": [
    "\n",
    "<p>A présent prenant une valeur test quelconque 90.</P>"
   ]
  },
  {
   "cell_type": "code",
   "execution_count": 19,
   "metadata": {},
   "outputs": [],
   "source": [
    "x_test= np.array([[90]])"
   ]
  },
  {
   "cell_type": "code",
   "execution_count": 20,
   "metadata": {},
   "outputs": [
    {
     "data": {
      "text/plain": [
       "array([[0.4]])"
      ]
     },
     "execution_count": 20,
     "metadata": {},
     "output_type": "execute_result"
    }
   ],
   "source": [
    "scaler.transform(x_test)"
   ]
  },
  {
   "cell_type": "markdown",
   "metadata": {},
   "source": [
    "\n",
    "<p>Notre transformer(lire en anglais), entraîné avec les données train a bien fonctionnée, elle a juste inserée la donnée x=90, dans la fonction créee avec les données train (70,80,120).</p>"
   ]
  },
  {
   "cell_type": "markdown",
   "metadata": {},
   "source": [
    "\n",
    "<p>Pour bien visualiser l'effet de la nomrmalisation MinMax nous allons charger le dataset des fleurs d'iris.</p>"
   ]
  },
  {
   "cell_type": "code",
   "execution_count": 21,
   "metadata": {},
   "outputs": [],
   "source": [
    "from sklearn import datasets\n",
    "import matplotlib.pyplot as plt"
   ]
  },
  {
   "cell_type": "code",
   "execution_count": 22,
   "metadata": {},
   "outputs": [
    {
     "data": {
      "image/png": "[encoded data removed]",
      "text/plain": [
       "<Figure size 432x288 with 1 Axes>"
      ]
     },
     "metadata": {
      "needs_background": "light"
     },
     "output_type": "display_data"
    }
   ],
   "source": [
    "iris=datasets.load_iris()\n",
    "x=iris.data\n",
    "plt.scatter(x[:,2], x[:,3], label=\"original\")\n",
    "plt.title(\"Nuage de point du dataset fleurs d'iris\")\n",
    "plt.legend()\n",
    "plt.show()"
   ]
  },
  {
   "cell_type": "code",
   "execution_count": 23,
   "metadata": {},
   "outputs": [
    {
     "data": {
      "image/png": "[encoded data removed]",
      "text/plain": [
       "<Figure size 432x288 with 1 Axes>"
      ]
     },
     "metadata": {
      "needs_background": "light"
     },
     "output_type": "display_data"
    }
   ],
   "source": [
    "X_minmax = MinMaxScaler()\n",
    "X_minmax=MinMaxScaler().fit_transform(x)\n",
    "plt.scatter(x[:,2], x[:,3], label=\"original\")\n",
    "plt.scatter(X_minmax[:,2], X_minmax[:,3], label=\"minmax\")\n",
    "plt.title(\"Nuage de points données normalisées et non normalisées\")\n",
    "plt.legend()\n",
    "plt.show()"
   ]
  },
  {
   "cell_type": "markdown",
   "metadata": {},
   "source": [
    "#### <u>Observation:</u>"
   ]
  },
  {
   "cell_type": "markdown",
   "metadata": {},
   "source": [
    "\n",
    "<p>Nous pouvons voir que nos données normaliser avec minmax sont bien comprises entre 0 et 1 (données en orange) et ces mêmes données non normalisées vont au-délà de 1.</p>"
   ]
  },
  {
   "cell_type": "markdown",
   "metadata": {},
   "source": [
    "## Standardisation"
   ]
  },
  {
   "cell_type": "markdown",
   "metadata": {},
   "source": [
    "\n",
    "<p>Cette technique transforme nos données de telle sorte à ce que chaque variable est une moyenne est nulle et un écart-type égale à 1.\n",
    "Pour ça il faut soustraire de chaque valeur la moyenne de l'ensemble de données initiale et diviser le tout de l'écart-type de ces même données.\n",
    "On obtient ainsi des données très simple à utiliser pour la plus part des modèles statistiques.</p>"
   ]
  },
  {
   "cell_type": "markdown",
   "metadata": {},
   "source": [
    "$$X_{scale}=\\frac{X-µ_{x}}{\\sigma}$$"
   ]
  },
  {
   "cell_type": "code",
   "execution_count": 24,
   "metadata": {},
   "outputs": [],
   "source": [
    "from sklearn.preprocessing import StandardScaler"
   ]
  },
  {
   "cell_type": "code",
   "execution_count": 25,
   "metadata": {},
   "outputs": [],
   "source": [
    "x_scale=np.array([[70], \n",
    "                  [80],\n",
    "                  [120]])"
   ]
  },
  {
   "cell_type": "code",
   "execution_count": 26,
   "metadata": {},
   "outputs": [
    {
     "data": {
      "text/plain": [
       "array([[-0.9258201 ],\n",
       "       [-0.46291005],\n",
       "       [ 1.38873015]])"
      ]
     },
     "execution_count": 26,
     "metadata": {},
     "output_type": "execute_result"
    }
   ],
   "source": [
    "scaler=StandardScaler()\n",
    "scaler.fit_transform(x_scale)"
   ]
  },
  {
   "cell_type": "markdown",
   "metadata": {},
   "source": [
    "#### <u>Observation:</u>"
   ]
  },
  {
   "cell_type": "markdown",
   "metadata": {},
   "source": [
    "\n",
    "<p>Cette technique est très utilisée, mais néanmoins elle est sensible aux valeurs aberrantes (Outliers) qui pourraient être contenues dans nos données. cela rendra nos modèles très difficiles à exploités.\n",
    "Dans cette situation il faudra utiliser un transformateur très peu sensible aux Outliers qui est le <strong><font color=\"green\">RobustScaler</strong></font> que nous verrons très prochainement.</p>"
   ]
  },
  {
   "cell_type": "markdown",
   "metadata": {},
   "source": [
    "# Conclusion:"
   ]
  },
  {
   "cell_type": "markdown",
   "metadata": {},
   "source": [
    " \n",
    "<p>Le preprocessing est important pour améliorer la qualité de nos données avant leur passage dans la machine. Pour ça sklearn ont développé un objet appelé transformer. Son rôle est de transformer nos données de façon cohérente, en appliquant sur les données du testset la même fonction de transformation qui a servie à traiter les données du trainset.\n",
    "Pour ça, les transformers disposent d'une méthode fit(X_train) et d'une méthode transform(X_test) qui peut être reuni en fit_transform().</br></p>\n",
    "\n",
    "En un mot pour résumer ce que nous avons vu, on pourrait dire: "
   ]
  },
  {
   "cell_type": "markdown",
   "metadata": {},
   "source": [
    "<i><font color=\"blue\">On encode les variables qualitatives et on Normalise les variables quantitatives</i></font>.</p>"
   ]
  },
  {
   "cell_type": "markdown",
   "metadata": {},
   "source": [
    "Pour plus d'analyses aller sur ma page https://github.com/BOUNGOTO/Travaux_Machine_learning"
   ]
  },
  {
   "cell_type": "code",
   "execution_count": null,
   "metadata": {},
   "outputs": [],
   "source": []
  }
 ],
 "metadata": {
  "kernelspec": {
   "display_name": "Python 3",
   "language": "python",
   "name": "python3"
  },
  "language_info": {
   "codemirror_mode": {
    "name": "ipython",
    "version": 3
   },
   "file_extension": ".py",
   "mimetype": "text/x-python",
   "name": "python",
   "nbconvert_exporter": "python",
   "pygments_lexer": "ipython3",
   "version": "3.7.3"
  }
 },
 "nbformat": 4,
 "nbformat_minor": 2
}
